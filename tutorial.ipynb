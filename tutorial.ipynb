{
 "cells": [
  {
   "cell_type": "markdown",
   "metadata": {},
   "source": [
    "# Tutorial for the transition state analysis module"
   ]
  },
  {
   "cell_type": "markdown",
   "metadata": {},
   "source": [
    "## 1. Production uMLIP calculations\n",
    "Files mlip_prod.py, calc.py and parse_output.py in the production_calc module are provided to run uMLIP calculations. Users can also opt to use their own scripts."
   ]
  },
  {
   "cell_type": "markdown",
   "metadata": {},
   "source": [
    "### 1.1 Production calculations\n",
    "For the `mlip_prod.py` file to run correctly,\n",
    "\n",
    "- prepare the input file that only contains {key: Structure} pairs in one dictionary\n",
    "- make sure that the input file path is correct\n",
    "- change the name of the MLIP in `mlip_prod.py` to the one to be used\n",
    "- check that the name of the MLIP can be called correctly from `calc.py`\n",
    "\n",
    "After the set up, run the following cell or in the terminal, in the same directory as the input file:"
   ]
  },
  {
   "cell_type": "code",
   "execution_count": null,
   "metadata": {},
   "outputs": [],
   "source": [
    "!python mlip_prod.py"
   ]
  },
  {
   "cell_type": "markdown",
   "metadata": {},
   "source": [
    "Note that the above file will generate `.jsonl` files by default. This is done for multiprocessing purposes, and is assumed to be the default output format in the following section. Users may also supply `.json` files, but they must be in the {key: energy value} format."
   ]
  },
  {
   "cell_type": "markdown",
   "metadata": {},
   "source": [
    "### 1.2 Output parsing\n",
    "This can be done with the `parse_output.py` file. For this to work correclty,\n",
    "\n",
    "- make sure to change the `methods` variable in the file to be a list of MLIP names the user has supplied\n",
    "- check that the currently directory has subdirectories whose names match elements in `methods`\n",
    "- these subdirectories should contain calculations results as `.json` or `.jsonl`\n",
    "- for `.jsonl` files, they should have the format {\"key\": key, \"data\": energy value}\n",
    "- for `.json` files, they should have the format {key: energy value}\n",
    "\n",
    "Then run the following cell or in the terminal, in the same direcotry as the output directories:"
   ]
  },
  {
   "cell_type": "code",
   "execution_count": null,
   "metadata": {},
   "outputs": [],
   "source": [
    "!python parse_output.py"
   ]
  },
  {
   "cell_type": "markdown",
   "metadata": {},
   "source": [
    "## 2. TS analysis module"
   ]
  },
  {
   "cell_type": "markdown",
   "metadata": {},
   "source": [
    "### 2.1 Instantiating `TSAnalysis`\n",
    "The `TSAnalysis` class can be instantiated with a data dictionary in the form of \\\n",
    "`{` \\\n",
    "`\"DFT\": {key: energy}`\\\n",
    "`MLIP_name_0: {key: energy}` \\\n",
    "`MLIP_name_1: {key: energy}` \\\n",
    "`...` \\\n",
    "`}`\\\n",
    "\n",
    "note that \n",
    "- it has to contain a DFT field\n",
    "- the keys have to be consistent in all methods\n",
    "- the keys should be in the format `identifier.hop_key.image_number` for the `NebPathwayResult`-related features to work\n",
    "\n",
    "Additionally, a `barrier_cutoff` input argument needs to be supplied. This truncates all the hops that are above the cutoff for analysis (in eV)."
   ]
  },
  {
   "cell_type": "code",
   "execution_count": null,
   "metadata": {},
   "outputs": [],
   "source": [
    "from ts_analysis import TSAnalysis\n",
    "tsa = TSAnalysis(\n",
    "    data=data,\n",
    "    barrier_cutoff=5\n",
    ")"
   ]
  },
  {
   "cell_type": "markdown",
   "metadata": {},
   "source": [
    "### 2.2 Plot analysis figures\n",
    "Below are some methods to obtain parity plots and shape error distribution plots."
   ]
  },
  {
   "cell_type": "markdown",
   "metadata": {},
   "source": [
    "### 2.2.1 Barrier error"
   ]
  },
  {
   "cell_type": "code",
   "execution_count": null,
   "metadata": {},
   "outputs": [],
   "source": [
    "tsa.get_barrier_scatter_plot(\n",
    "    mlip_method=mlip_method\n",
    ")"
   ]
  },
  {
   "cell_type": "markdown",
   "metadata": {},
   "source": [
    "### 2.2.2 Point-wise energy error"
   ]
  },
  {
   "cell_type": "code",
   "execution_count": null,
   "metadata": {},
   "outputs": [],
   "source": [
    "tsa.get_point_wise_energy_error_plot(\n",
    "    mlip_method=mlip_method\n",
    ")"
   ]
  },
  {
   "cell_type": "markdown",
   "metadata": {},
   "source": [
    "### 2.2.3 Transition state shape error"
   ]
  },
  {
   "cell_type": "code",
   "execution_count": null,
   "metadata": {},
   "outputs": [],
   "source": [
    "tsa.get_sign_change_plot(\n",
    "    mlip_method=mlip_method,\n",
    "    type=\"energy_diff_sign\"\n",
    ")"
   ]
  },
  {
   "cell_type": "code",
   "execution_count": null,
   "metadata": {},
   "outputs": [],
   "source": []
  }
 ],
 "metadata": {
  "kernelspec": {
   "display_name": "ts_analysis",
   "language": "python",
   "name": "python3"
  },
  "language_info": {
   "codemirror_mode": {
    "name": "ipython",
    "version": 3
   },
   "file_extension": ".py",
   "mimetype": "text/x-python",
   "name": "python",
   "nbconvert_exporter": "python",
   "pygments_lexer": "ipython3",
   "version": "3.12.3"
  }
 },
 "nbformat": 4,
 "nbformat_minor": 2
}
